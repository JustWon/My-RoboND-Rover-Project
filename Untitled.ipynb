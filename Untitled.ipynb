{
 "cells": [
  {
   "cell_type": "code",
   "execution_count": 27,
   "metadata": {},
   "outputs": [],
   "source": [
    "import numpy as np\n",
    "import matplotlib.pyplot as plt\n",
    "%matplotlib inline\n"
   ]
  },
  {
   "cell_type": "code",
   "execution_count": 37,
   "metadata": {},
   "outputs": [],
   "source": [
    "nav_angles = np.loadtxt('code/nav_angles.txt')"
   ]
  },
  {
   "cell_type": "code",
   "execution_count": 12,
   "metadata": {},
   "outputs": [],
   "source": [
    "def initialize_centroids(angles, k):\n",
    "    \"\"\"returns k centroids from the initial points\"\"\"\n",
    "    centroids = angles.copy()\n",
    "    np.random.shuffle(centroids)\n",
    "    return centroids[:k]\n",
    "\n",
    "def closest_centroid(angles, centroids):\n",
    "    \"\"\"returns an array containing the index to the nearest centroid for each point\"\"\"\n",
    "    distances = []\n",
    "    for angle in angles:\n",
    "        dist1 = abs(angle-centroids[0])\n",
    "        dist2 = abs(angle-centroids[1])\n",
    "        distances.append([dist1, dist2])\n",
    "    return np.argmin(distances, axis=1)\n",
    "\n",
    "def move_centroids(angles, closest, centroids):\n",
    "    \"\"\"returns the new centroids assigned from the points closest to them\"\"\"\n",
    "    return np.array([angles[closest==k].mean() for k in range(2)])\n"
   ]
  },
  {
   "cell_type": "code",
   "execution_count": 38,
   "metadata": {},
   "outputs": [
    {
     "name": "stdout",
     "output_type": "stream",
     "text": [
      "[-0.55165498 -0.62879629]\n"
     ]
    }
   ],
   "source": [
    "centroids = initialize_centroids(nav_angles, 2)\n",
    "print(centroids)"
   ]
  },
  {
   "cell_type": "code",
   "execution_count": 39,
   "metadata": {},
   "outputs": [
    {
     "name": "stdout",
     "output_type": "stream",
     "text": [
      "[-0.47190844 -0.72026559]\n",
      "[-0.47657745 -0.72218718]\n",
      "[-0.48032129 -0.72378499]\n",
      "[-0.48250438 -0.72474401]\n",
      "[-0.48464897 -0.72570074]\n",
      "[-0.48605342 -0.72633944]\n",
      "[-0.48812553 -0.72729813]\n",
      "[-0.48880864 -0.72761726]\n",
      "[-0.49016084 -0.72825627]\n",
      "[-0.49149528 -0.72889611]\n"
     ]
    }
   ],
   "source": [
    "for _ in range(10):\n",
    "    closest = closest_centroid(nav_angles, centroids)\n",
    "#     print(closest)\n",
    "    centroids = move_centroids(nav_angles, closest, centroids)\n",
    "    print(centroids)"
   ]
  },
  {
   "cell_type": "code",
   "execution_count": 34,
   "metadata": {},
   "outputs": [
    {
     "data": {
      "text/plain": [
       "<matplotlib.collections.PathCollection at 0x17d651e9940>"
      ]
     },
     "execution_count": 34,
     "metadata": {},
     "output_type": "execute_result"
    },
    {
     "data": {
      "image/png": "[encoded data removed]",
      "text/plain": [
       "<matplotlib.figure.Figure at 0x17d63f59780>"
      ]
     },
     "metadata": {},
     "output_type": "display_data"
    }
   ],
   "source": [
    "plt.scatter(np.ones_like(nav_angles),nav_angles)"
   ]
  },
  {
   "cell_type": "code",
   "execution_count": null,
   "metadata": {},
   "outputs": [],
   "source": []
  }
 ],
 "metadata": {
  "kernelspec": {
   "display_name": "Python 3",
   "language": "python",
   "name": "python3"
  },
  "language_info": {
   "codemirror_mode": {
    "name": "ipython",
    "version": 3
   },
   "file_extension": ".py",
   "mimetype": "text/x-python",
   "name": "python",
   "nbconvert_exporter": "python",
   "pygments_lexer": "ipython3",
   "version": "3.5.2"
  },
  "widgets": {
   "state": {},
   "version": "1.1.2"
  }
 },
 "nbformat": 4,
 "nbformat_minor": 2
}
